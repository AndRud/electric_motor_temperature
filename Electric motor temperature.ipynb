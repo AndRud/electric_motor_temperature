{
 "cells": [
  {
   "cell_type": "code",
   "execution_count": 1,
   "metadata": {},
   "outputs": [],
   "source": [
    "import pandas as pd"
   ]
  },
  {
   "cell_type": "code",
   "execution_count": 2,
   "metadata": {},
   "outputs": [],
   "source": [
    "import numpy as np"
   ]
  },
  {
   "cell_type": "code",
   "execution_count": 3,
   "metadata": {},
   "outputs": [],
   "source": [
    "import matplotlib.pyplot as plt\n",
    "import seaborn as sns\n",
    "sns.set(style=\"whitegrid\")\n",
    "%matplotlib inline"
   ]
  },
  {
   "cell_type": "code",
   "execution_count": 4,
   "metadata": {},
   "outputs": [
    {
     "data": {
      "text/html": [
       "<div>\n",
       "<style scoped>\n",
       "    .dataframe tbody tr th:only-of-type {\n",
       "        vertical-align: middle;\n",
       "    }\n",
       "\n",
       "    .dataframe tbody tr th {\n",
       "        vertical-align: top;\n",
       "    }\n",
       "\n",
       "    .dataframe thead th {\n",
       "        text-align: right;\n",
       "    }\n",
       "</style>\n",
       "<table border=\"1\" class=\"dataframe\">\n",
       "  <thead>\n",
       "    <tr style=\"text-align: right;\">\n",
       "      <th></th>\n",
       "      <th>ambient</th>\n",
       "      <th>coolant</th>\n",
       "      <th>u_d</th>\n",
       "      <th>u_q</th>\n",
       "      <th>motor_speed</th>\n",
       "      <th>torque</th>\n",
       "      <th>i_d</th>\n",
       "      <th>i_q</th>\n",
       "      <th>pm</th>\n",
       "      <th>stator_yoke</th>\n",
       "      <th>stator_tooth</th>\n",
       "      <th>stator_winding</th>\n",
       "      <th>profile_id</th>\n",
       "    </tr>\n",
       "  </thead>\n",
       "  <tbody>\n",
       "    <tr>\n",
       "      <th>0</th>\n",
       "      <td>-0.752143</td>\n",
       "      <td>-1.118446</td>\n",
       "      <td>0.327935</td>\n",
       "      <td>-1.297858</td>\n",
       "      <td>-1.222428</td>\n",
       "      <td>-0.250182</td>\n",
       "      <td>1.029572</td>\n",
       "      <td>-0.245860</td>\n",
       "      <td>-2.522071</td>\n",
       "      <td>-1.831422</td>\n",
       "      <td>-2.066143</td>\n",
       "      <td>-2.018033</td>\n",
       "      <td>4</td>\n",
       "    </tr>\n",
       "    <tr>\n",
       "      <th>1</th>\n",
       "      <td>-0.771263</td>\n",
       "      <td>-1.117021</td>\n",
       "      <td>0.329665</td>\n",
       "      <td>-1.297686</td>\n",
       "      <td>-1.222429</td>\n",
       "      <td>-0.249133</td>\n",
       "      <td>1.029509</td>\n",
       "      <td>-0.245832</td>\n",
       "      <td>-2.522418</td>\n",
       "      <td>-1.830969</td>\n",
       "      <td>-2.064859</td>\n",
       "      <td>-2.017631</td>\n",
       "      <td>4</td>\n",
       "    </tr>\n",
       "    <tr>\n",
       "      <th>2</th>\n",
       "      <td>-0.782892</td>\n",
       "      <td>-1.116681</td>\n",
       "      <td>0.332771</td>\n",
       "      <td>-1.301822</td>\n",
       "      <td>-1.222428</td>\n",
       "      <td>-0.249431</td>\n",
       "      <td>1.029448</td>\n",
       "      <td>-0.245818</td>\n",
       "      <td>-2.522673</td>\n",
       "      <td>-1.830400</td>\n",
       "      <td>-2.064073</td>\n",
       "      <td>-2.017343</td>\n",
       "      <td>4</td>\n",
       "    </tr>\n",
       "    <tr>\n",
       "      <th>3</th>\n",
       "      <td>-0.780935</td>\n",
       "      <td>-1.116764</td>\n",
       "      <td>0.333700</td>\n",
       "      <td>-1.301852</td>\n",
       "      <td>-1.222430</td>\n",
       "      <td>-0.248636</td>\n",
       "      <td>1.032845</td>\n",
       "      <td>-0.246955</td>\n",
       "      <td>-2.521639</td>\n",
       "      <td>-1.830333</td>\n",
       "      <td>-2.063137</td>\n",
       "      <td>-2.017632</td>\n",
       "      <td>4</td>\n",
       "    </tr>\n",
       "    <tr>\n",
       "      <th>4</th>\n",
       "      <td>-0.774043</td>\n",
       "      <td>-1.116775</td>\n",
       "      <td>0.335206</td>\n",
       "      <td>-1.303118</td>\n",
       "      <td>-1.222429</td>\n",
       "      <td>-0.248701</td>\n",
       "      <td>1.031807</td>\n",
       "      <td>-0.246610</td>\n",
       "      <td>-2.521900</td>\n",
       "      <td>-1.830498</td>\n",
       "      <td>-2.062795</td>\n",
       "      <td>-2.018145</td>\n",
       "      <td>4</td>\n",
       "    </tr>\n",
       "  </tbody>\n",
       "</table>\n",
       "</div>"
      ],
      "text/plain": [
       "    ambient   coolant       u_d       u_q  motor_speed    torque       i_d  \\\n",
       "0 -0.752143 -1.118446  0.327935 -1.297858    -1.222428 -0.250182  1.029572   \n",
       "1 -0.771263 -1.117021  0.329665 -1.297686    -1.222429 -0.249133  1.029509   \n",
       "2 -0.782892 -1.116681  0.332771 -1.301822    -1.222428 -0.249431  1.029448   \n",
       "3 -0.780935 -1.116764  0.333700 -1.301852    -1.222430 -0.248636  1.032845   \n",
       "4 -0.774043 -1.116775  0.335206 -1.303118    -1.222429 -0.248701  1.031807   \n",
       "\n",
       "        i_q        pm  stator_yoke  stator_tooth  stator_winding  profile_id  \n",
       "0 -0.245860 -2.522071    -1.831422     -2.066143       -2.018033           4  \n",
       "1 -0.245832 -2.522418    -1.830969     -2.064859       -2.017631           4  \n",
       "2 -0.245818 -2.522673    -1.830400     -2.064073       -2.017343           4  \n",
       "3 -0.246955 -2.521639    -1.830333     -2.063137       -2.017632           4  \n",
       "4 -0.246610 -2.521900    -1.830498     -2.062795       -2.018145           4  "
      ]
     },
     "execution_count": 4,
     "metadata": {},
     "output_type": "execute_result"
    }
   ],
   "source": [
    "temperature_data = pd.read_csv('pmsm_temperature_data.csv')\n",
    "temperature_data.head()"
   ]
  },
  {
   "cell_type": "code",
   "execution_count": 5,
   "metadata": {},
   "outputs": [
    {
     "data": {
      "text/plain": [
       "52"
      ]
     },
     "execution_count": 5,
     "metadata": {},
     "output_type": "execute_result"
    }
   ],
   "source": [
    "temperature_data['profile_id'].nunique()"
   ]
  },
  {
   "cell_type": "code",
   "execution_count": 6,
   "metadata": {
    "scrolled": true
   },
   "outputs": [
    {
     "data": {
      "text/html": [
       "<div>\n",
       "<style scoped>\n",
       "    .dataframe tbody tr th:only-of-type {\n",
       "        vertical-align: middle;\n",
       "    }\n",
       "\n",
       "    .dataframe tbody tr th {\n",
       "        vertical-align: top;\n",
       "    }\n",
       "\n",
       "    .dataframe thead th {\n",
       "        text-align: right;\n",
       "    }\n",
       "</style>\n",
       "<table border=\"1\" class=\"dataframe\">\n",
       "  <thead>\n",
       "    <tr style=\"text-align: right;\">\n",
       "      <th></th>\n",
       "      <th>ambient</th>\n",
       "      <th>coolant</th>\n",
       "      <th>u_d</th>\n",
       "      <th>u_q</th>\n",
       "      <th>motor_speed</th>\n",
       "      <th>torque</th>\n",
       "      <th>i_d</th>\n",
       "      <th>i_q</th>\n",
       "      <th>pm</th>\n",
       "      <th>stator_yoke</th>\n",
       "      <th>stator_tooth</th>\n",
       "      <th>stator_winding</th>\n",
       "      <th>profile_id</th>\n",
       "    </tr>\n",
       "  </thead>\n",
       "  <tbody>\n",
       "    <tr>\n",
       "      <th>count</th>\n",
       "      <td>998070.000000</td>\n",
       "      <td>998070.000000</td>\n",
       "      <td>998070.000000</td>\n",
       "      <td>998070.000000</td>\n",
       "      <td>998070.000000</td>\n",
       "      <td>998070.000000</td>\n",
       "      <td>998070.000000</td>\n",
       "      <td>998070.000000</td>\n",
       "      <td>998070.000000</td>\n",
       "      <td>998070.000000</td>\n",
       "      <td>998070.000000</td>\n",
       "      <td>998070.000000</td>\n",
       "      <td>998070.000000</td>\n",
       "    </tr>\n",
       "    <tr>\n",
       "      <th>mean</th>\n",
       "      <td>-0.003905</td>\n",
       "      <td>0.004723</td>\n",
       "      <td>0.004780</td>\n",
       "      <td>-0.005690</td>\n",
       "      <td>-0.006336</td>\n",
       "      <td>-0.003333</td>\n",
       "      <td>0.006043</td>\n",
       "      <td>-0.003194</td>\n",
       "      <td>-0.004396</td>\n",
       "      <td>0.000609</td>\n",
       "      <td>-0.002208</td>\n",
       "      <td>-0.003935</td>\n",
       "      <td>50.732001</td>\n",
       "    </tr>\n",
       "    <tr>\n",
       "      <th>std</th>\n",
       "      <td>0.993127</td>\n",
       "      <td>1.002423</td>\n",
       "      <td>0.997878</td>\n",
       "      <td>1.002330</td>\n",
       "      <td>1.001229</td>\n",
       "      <td>0.997907</td>\n",
       "      <td>0.998994</td>\n",
       "      <td>0.997912</td>\n",
       "      <td>0.995686</td>\n",
       "      <td>1.001049</td>\n",
       "      <td>0.999597</td>\n",
       "      <td>0.998343</td>\n",
       "      <td>22.073125</td>\n",
       "    </tr>\n",
       "    <tr>\n",
       "      <th>min</th>\n",
       "      <td>-8.573954</td>\n",
       "      <td>-1.429349</td>\n",
       "      <td>-1.655373</td>\n",
       "      <td>-1.861463</td>\n",
       "      <td>-1.371529</td>\n",
       "      <td>-3.345953</td>\n",
       "      <td>-3.245874</td>\n",
       "      <td>-3.341639</td>\n",
       "      <td>-2.631991</td>\n",
       "      <td>-1.834688</td>\n",
       "      <td>-2.066143</td>\n",
       "      <td>-2.019973</td>\n",
       "      <td>4.000000</td>\n",
       "    </tr>\n",
       "    <tr>\n",
       "      <th>25%</th>\n",
       "      <td>-0.599385</td>\n",
       "      <td>-1.037925</td>\n",
       "      <td>-0.826359</td>\n",
       "      <td>-0.927390</td>\n",
       "      <td>-0.951892</td>\n",
       "      <td>-0.266917</td>\n",
       "      <td>-0.756296</td>\n",
       "      <td>-0.257269</td>\n",
       "      <td>-0.672308</td>\n",
       "      <td>-0.747265</td>\n",
       "      <td>-0.761951</td>\n",
       "      <td>-0.725622</td>\n",
       "      <td>32.000000</td>\n",
       "    </tr>\n",
       "    <tr>\n",
       "      <th>50%</th>\n",
       "      <td>0.266157</td>\n",
       "      <td>-0.177187</td>\n",
       "      <td>0.267542</td>\n",
       "      <td>-0.099818</td>\n",
       "      <td>-0.140246</td>\n",
       "      <td>-0.187246</td>\n",
       "      <td>0.213935</td>\n",
       "      <td>-0.190076</td>\n",
       "      <td>0.094367</td>\n",
       "      <td>-0.057226</td>\n",
       "      <td>0.005085</td>\n",
       "      <td>0.006536</td>\n",
       "      <td>56.000000</td>\n",
       "    </tr>\n",
       "    <tr>\n",
       "      <th>75%</th>\n",
       "      <td>0.686675</td>\n",
       "      <td>0.650709</td>\n",
       "      <td>0.358491</td>\n",
       "      <td>0.852625</td>\n",
       "      <td>0.853584</td>\n",
       "      <td>0.547171</td>\n",
       "      <td>1.013975</td>\n",
       "      <td>0.499260</td>\n",
       "      <td>0.680691</td>\n",
       "      <td>0.697344</td>\n",
       "      <td>0.772239</td>\n",
       "      <td>0.725660</td>\n",
       "      <td>68.000000</td>\n",
       "    </tr>\n",
       "    <tr>\n",
       "      <th>max</th>\n",
       "      <td>2.967117</td>\n",
       "      <td>2.649032</td>\n",
       "      <td>2.274734</td>\n",
       "      <td>1.793498</td>\n",
       "      <td>2.024164</td>\n",
       "      <td>3.016971</td>\n",
       "      <td>1.060937</td>\n",
       "      <td>2.914185</td>\n",
       "      <td>2.917456</td>\n",
       "      <td>2.449158</td>\n",
       "      <td>2.326668</td>\n",
       "      <td>2.653781</td>\n",
       "      <td>81.000000</td>\n",
       "    </tr>\n",
       "  </tbody>\n",
       "</table>\n",
       "</div>"
      ],
      "text/plain": [
       "             ambient        coolant            u_d            u_q  \\\n",
       "count  998070.000000  998070.000000  998070.000000  998070.000000   \n",
       "mean       -0.003905       0.004723       0.004780      -0.005690   \n",
       "std         0.993127       1.002423       0.997878       1.002330   \n",
       "min        -8.573954      -1.429349      -1.655373      -1.861463   \n",
       "25%        -0.599385      -1.037925      -0.826359      -0.927390   \n",
       "50%         0.266157      -0.177187       0.267542      -0.099818   \n",
       "75%         0.686675       0.650709       0.358491       0.852625   \n",
       "max         2.967117       2.649032       2.274734       1.793498   \n",
       "\n",
       "         motor_speed         torque            i_d            i_q  \\\n",
       "count  998070.000000  998070.000000  998070.000000  998070.000000   \n",
       "mean       -0.006336      -0.003333       0.006043      -0.003194   \n",
       "std         1.001229       0.997907       0.998994       0.997912   \n",
       "min        -1.371529      -3.345953      -3.245874      -3.341639   \n",
       "25%        -0.951892      -0.266917      -0.756296      -0.257269   \n",
       "50%        -0.140246      -0.187246       0.213935      -0.190076   \n",
       "75%         0.853584       0.547171       1.013975       0.499260   \n",
       "max         2.024164       3.016971       1.060937       2.914185   \n",
       "\n",
       "                  pm    stator_yoke   stator_tooth  stator_winding  \\\n",
       "count  998070.000000  998070.000000  998070.000000   998070.000000   \n",
       "mean       -0.004396       0.000609      -0.002208       -0.003935   \n",
       "std         0.995686       1.001049       0.999597        0.998343   \n",
       "min        -2.631991      -1.834688      -2.066143       -2.019973   \n",
       "25%        -0.672308      -0.747265      -0.761951       -0.725622   \n",
       "50%         0.094367      -0.057226       0.005085        0.006536   \n",
       "75%         0.680691       0.697344       0.772239        0.725660   \n",
       "max         2.917456       2.449158       2.326668        2.653781   \n",
       "\n",
       "          profile_id  \n",
       "count  998070.000000  \n",
       "mean       50.732001  \n",
       "std        22.073125  \n",
       "min         4.000000  \n",
       "25%        32.000000  \n",
       "50%        56.000000  \n",
       "75%        68.000000  \n",
       "max        81.000000  "
      ]
     },
     "execution_count": 6,
     "metadata": {},
     "output_type": "execute_result"
    }
   ],
   "source": [
    "temperature_data.describe()"
   ]
  },
  {
   "cell_type": "code",
   "execution_count": 7,
   "metadata": {},
   "outputs": [
    {
     "data": {
      "text/plain": [
       "<matplotlib.axes._subplots.AxesSubplot at 0x106d889b0>"
      ]
     },
     "execution_count": 7,
     "metadata": {},
     "output_type": "execute_result"
    },
    {
     "data": {
      "image/png": "[encoded data removed]",
      "text/plain": [
       "<Figure size 432x288 with 2 Axes>"
      ]
     },
     "metadata": {
      "needs_background": "light"
     },
     "output_type": "display_data"
    }
   ],
   "source": [
    "sns.heatmap(temperature_data.corr())"
   ]
  },
  {
   "cell_type": "code",
   "execution_count": 8,
   "metadata": {},
   "outputs": [],
   "source": [
    "from sklearn.model_selection import train_test_split"
   ]
  },
  {
   "cell_type": "code",
   "execution_count": 88,
   "metadata": {},
   "outputs": [],
   "source": [
    "target_name = 'i_q'\n",
    "X = temperature_data.drop(labels=[target_name],axis=1)\n",
    "Y = temperature_data[target_name]"
   ]
  },
  {
   "cell_type": "code",
   "execution_count": 89,
   "metadata": {},
   "outputs": [],
   "source": [
    "from sklearn.decomposition import PCA"
   ]
  },
  {
   "cell_type": "code",
   "execution_count": 90,
   "metadata": {},
   "outputs": [],
   "source": [
    "pca = PCA(n_components=12)"
   ]
  },
  {
   "cell_type": "code",
   "execution_count": 91,
   "metadata": {},
   "outputs": [
    {
     "data": {
      "text/plain": [
       "PCA(copy=True, iterated_power='auto', n_components=12, random_state=None,\n",
       "  svd_solver='auto', tol=0.0, whiten=False)"
      ]
     },
     "execution_count": 91,
     "metadata": {},
     "output_type": "execute_result"
    }
   ],
   "source": [
    "pca.fit(X)"
   ]
  },
  {
   "cell_type": "code",
   "execution_count": 51,
   "metadata": {},
   "outputs": [],
   "source": [
    "X_transformed = pca.transform(X)"
   ]
  },
  {
   "cell_type": "code",
   "execution_count": 65,
   "metadata": {},
   "outputs": [],
   "source": [
    "X_train, X_test, y_train, y_test = train_test_split(X, Y, test_size=0.3)"
   ]
  },
  {
   "cell_type": "code",
   "execution_count": 66,
   "metadata": {},
   "outputs": [],
   "source": [
    "from sklearn.linear_model import LinearRegression"
   ]
  },
  {
   "cell_type": "code",
   "execution_count": 92,
   "metadata": {},
   "outputs": [],
   "source": [
    "lm = LinearRegression()"
   ]
  },
  {
   "cell_type": "code",
   "execution_count": 93,
   "metadata": {},
   "outputs": [
    {
     "data": {
      "text/plain": [
       "LinearRegression(copy_X=True, fit_intercept=True, n_jobs=None,\n",
       "         normalize=False)"
      ]
     },
     "execution_count": 93,
     "metadata": {},
     "output_type": "execute_result"
    }
   ],
   "source": [
    "lm.fit(X_train,y_train)"
   ]
  },
  {
   "cell_type": "code",
   "execution_count": 94,
   "metadata": {},
   "outputs": [],
   "source": [
    "predictions = lm.predict(X_test)"
   ]
  },
  {
   "cell_type": "code",
   "execution_count": 95,
   "metadata": {},
   "outputs": [
    {
     "name": "stdout",
     "output_type": "stream",
     "text": [
      "MAE: 0.6000201497347571\n",
      "MSE: 0.5725741164075049\n",
      "RMSE: 0.7566862734366898\n",
      "0.41912542697053623\n"
     ]
    }
   ],
   "source": [
    "from sklearn import metrics\n",
    "print('MAE:', metrics.mean_absolute_error(y_test, predictions))\n",
    "print('MSE:', metrics.mean_squared_error(y_test, predictions))\n",
    "print('RMSE:', np.sqrt(metrics.mean_squared_error(y_test, predictions)))\n",
    "print(metrics.explained_variance_score(y_test, predictions))"
   ]
  },
  {
   "cell_type": "code",
   "execution_count": 103,
   "metadata": {},
   "outputs": [
    {
     "data": {
      "image/png": "[encoded data removed]",
      "text/plain": [
       "<Figure size 432x288 with 1 Axes>"
      ]
     },
     "metadata": {
      "needs_background": "light"
     },
     "output_type": "display_data"
    }
   ],
   "source": [
    "sns.distplot((y_test-predictions),bins=50);"
   ]
  },
  {
   "cell_type": "code",
   "execution_count": 83,
   "metadata": {},
   "outputs": [],
   "source": [
    "import xgboost as xgb"
   ]
  },
  {
   "cell_type": "code",
   "execution_count": 84,
   "metadata": {},
   "outputs": [],
   "source": [
    "xgb_model = xgb.XGBRegressor(objective='reg:squarederror',\n",
    "                             n_estimators=20, \n",
    "                             learning_rate=0.2, \n",
    "                             subsample=0.75,\n",
    "                             colsample_bytree=1,\n",
    "                             max_depth=7)"
   ]
  },
  {
   "cell_type": "code",
   "execution_count": 99,
   "metadata": {},
   "outputs": [
    {
     "name": "stderr",
     "output_type": "stream",
     "text": [
      "/anaconda3/lib/python3.7/site-packages/xgboost/core.py:587: FutureWarning: Series.base is deprecated and will be removed in a future version\n",
      "  if getattr(data, 'base', None) is not None and \\\n"
     ]
    },
    {
     "data": {
      "text/plain": [
       "XGBRegressor(base_score=0.5, booster='gbtree', colsample_bylevel=1,\n",
       "       colsample_bynode=1, colsample_bytree=1, gamma=0,\n",
       "       importance_type='gain', learning_rate=0.2, max_delta_step=0,\n",
       "       max_depth=7, min_child_weight=1, missing=None, n_estimators=20,\n",
       "       n_jobs=1, nthread=None, objective='reg:squarederror',\n",
       "       random_state=0, reg_alpha=0, reg_lambda=1, scale_pos_weight=1,\n",
       "       seed=None, silent=None, subsample=0.75, verbosity=1)"
      ]
     },
     "execution_count": 99,
     "metadata": {},
     "output_type": "execute_result"
    }
   ],
   "source": [
    "xgb_model.fit(X_train,y_train)"
   ]
  },
  {
   "cell_type": "code",
   "execution_count": 100,
   "metadata": {},
   "outputs": [],
   "source": [
    "predictions = xgb_model.predict(X_test)"
   ]
  },
  {
   "cell_type": "code",
   "execution_count": 101,
   "metadata": {},
   "outputs": [
    {
     "name": "stdout",
     "output_type": "stream",
     "text": [
      "MAE: 0.13589100639133966\n",
      "MSE: 0.038992079431682904\n",
      "RMSE: 0.1974641218846677\n",
      "0.960474837991964\n"
     ]
    }
   ],
   "source": [
    "print('MAE:', metrics.mean_absolute_error(y_test, predictions))\n",
    "print('MSE:', metrics.mean_squared_error(y_test, predictions))\n",
    "print('RMSE:', np.sqrt(metrics.mean_squared_error(y_test, predictions)))\n",
    "print(metrics.explained_variance_score(y_test, predictions))"
   ]
  },
  {
   "cell_type": "code",
   "execution_count": null,
   "metadata": {},
   "outputs": [],
   "source": []
  }
 ],
 "metadata": {
  "kernelspec": {
   "display_name": "Python 3",
   "language": "python",
   "name": "python3"
  },
  "language_info": {
   "codemirror_mode": {
    "name": "ipython",
    "version": 3
   },
   "file_extension": ".py",
   "mimetype": "text/x-python",
   "name": "python",
   "nbconvert_exporter": "python",
   "pygments_lexer": "ipython3",
   "version": "3.7.3"
  }
 },
 "nbformat": 4,
 "nbformat_minor": 2
}
